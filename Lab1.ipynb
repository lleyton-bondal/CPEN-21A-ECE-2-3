{
  "nbformat": 4,
  "nbformat_minor": 0,
  "metadata": {
    "colab": {
      "name": "Lab1.ipynb",
      "provenance": [],
      "authorship_tag": "ABX9TyPsvuiJOMCVng9iAiAHOo+j",
      "include_colab_link": true
    },
    "kernelspec": {
      "name": "python3",
      "display_name": "Python 3"
    },
    "language_info": {
      "name": "python"
    }
  },
  "cells": [
    {
      "cell_type": "markdown",
      "metadata": {
        "id": "view-in-github",
        "colab_type": "text"
      },
      "source": [
        "<a href=\"https://colab.research.google.com/github/lleyton-bondal/CPEN-21A-ECE-2-3/blob/main/Lab1.ipynb\" target=\"_parent\"><img src=\"https://colab.research.google.com/assets/colab-badge.svg\" alt=\"Open In Colab\"/></a>"
      ]
    },
    {
      "cell_type": "markdown",
      "metadata": {
        "id": "AyFLDYZfnQtS"
      },
      "source": [
        "#Laboratory 1"
      ]
    },
    {
      "cell_type": "markdown",
      "metadata": {
        "id": "4adqugLPishy"
      },
      "source": [
        "###Welcome to Python Programming"
      ]
    },
    {
      "cell_type": "code",
      "metadata": {
        "colab": {
          "base_uri": "https://localhost:8080/"
        },
        "id": "-sTL24lyhEzI",
        "outputId": "d38281e3-ef75-4095-eaf1-aeea6e31162a"
      },
      "source": [
        "P = \"Welcome to Python Programming\"\n",
        "print(P)"
      ],
      "execution_count": 2,
      "outputs": [
        {
          "output_type": "stream",
          "name": "stdout",
          "text": [
            "Welcome to Python Programming\n"
          ]
        }
      ]
    },
    {
      "cell_type": "markdown",
      "metadata": {
        "id": "NkipW4iPjU_G"
      },
      "source": [
        "###Personal Information"
      ]
    },
    {
      "cell_type": "code",
      "metadata": {
        "colab": {
          "base_uri": "https://localhost:8080/"
        },
        "id": "nmqwXtJ_jbFF",
        "outputId": "165f62d5-9139-44d3-81f1-655dcfd23aba"
      },
      "source": [
        "I = \"Hi there! Welcome.\"\n",
        "N = \"My name is Lleyton Earl Emmanuel C. Bondal\"\n",
        "F = \"I live in Block 7, Lot 13, Kinarri Village, Phase 3, Carmona Estates, Lantic, Carmona, Cavite\"\n",
        "O = \"I just had my birthday last 24th of October. Now, I am 21 Years old\" \n",
        "print(I)\n",
        "print(N)\n",
        "print(F)\n",
        "print(O)"
      ],
      "execution_count": 11,
      "outputs": [
        {
          "output_type": "stream",
          "name": "stdout",
          "text": [
            "Hi there! Welcome.\n",
            "My name is Lleyton Earl Emmanuel C. Bondal\n",
            "I live in Block 7, Lot 13, Kinarri Village, Phase 3, Carmona Estates, Lantic, Carmona, Cavite\n",
            "I just had my birthday last 24th of October. Now, I am 21 Years old\n"
          ]
        }
      ]
    }
  ]
}
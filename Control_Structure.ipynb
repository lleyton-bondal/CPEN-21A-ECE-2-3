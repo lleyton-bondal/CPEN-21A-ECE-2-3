{
  "nbformat": 4,
  "nbformat_minor": 0,
  "metadata": {
    "colab": {
      "name": "Control Structure.ipynb",
      "provenance": [],
      "authorship_tag": "ABX9TyNN2LUvfUMSS3zAaympi6Fx",
      "include_colab_link": true
    },
    "kernelspec": {
      "name": "python3",
      "display_name": "Python 3"
    },
    "language_info": {
      "name": "python"
    }
  },
  "cells": [
    {
      "cell_type": "markdown",
      "metadata": {
        "id": "view-in-github",
        "colab_type": "text"
      },
      "source": [
        "<a href=\"https://colab.research.google.com/github/lleyton-bondal/CPEN-21A-ECE-2-3/blob/main/Control_Structure.ipynb\" target=\"_parent\"><img src=\"https://colab.research.google.com/assets/colab-badge.svg\" alt=\"Open In Colab\"/></a>"
      ]
    },
    {
      "cell_type": "markdown",
      "metadata": {
        "id": "ZFGm4yh4yvCp"
      },
      "source": [
        "##If Statement"
      ]
    },
    {
      "cell_type": "code",
      "metadata": {
        "colab": {
          "base_uri": "https://localhost:8080/"
        },
        "id": "W9sg2uEmyzH1",
        "outputId": "2cc767e1-648d-441a-d0ab-e07f43f99091"
      },
      "source": [
        "a =12 \n",
        "b = 100\n",
        "if a<b:  \n",
        "  print(\"a is less than b\")"
      ],
      "execution_count": 1,
      "outputs": [
        {
          "output_type": "stream",
          "name": "stdout",
          "text": [
            "a is less than b\n"
          ]
        }
      ]
    },
    {
      "cell_type": "markdown",
      "metadata": {
        "id": "74FAddsrzdoA"
      },
      "source": [
        "##Elif Statement"
      ]
    },
    {
      "cell_type": "code",
      "metadata": {
        "colab": {
          "base_uri": "https://localhost:8080/"
        },
        "id": "67UCUrhTzfsU",
        "outputId": "0288a6b6-c5f1-4305-f190-7da7df3b67f8"
      },
      "source": [
        "a = 30\n",
        "b = 15\n",
        "if a<b:\n",
        "  print(\"a is less than b\")\n",
        "elif a>b:\n",
        "  print(\"a is greater than b\")\n"
      ],
      "execution_count": 3,
      "outputs": [
        {
          "output_type": "stream",
          "name": "stdout",
          "text": [
            "a is greater than b\n"
          ]
        }
      ]
    },
    {
      "cell_type": "markdown",
      "metadata": {
        "id": "nv9I9nG50FV9"
      },
      "source": [
        "##Else Statement"
      ]
    },
    {
      "cell_type": "code",
      "metadata": {
        "colab": {
          "base_uri": "https://localhost:8080/"
        },
        "id": "VPb3lzDR0Hxu",
        "outputId": "9cf0f219-90d4-4d8a-fb2a-a05644da6170"
      },
      "source": [
        "a = 30\n",
        "b = 30\n",
        "if a<b:\n",
        "  print(\"a is less than b\")\n",
        "elif a>b:\n",
        "  print(\"a is greater than b\")\n",
        "else:\n",
        "  print(\"a is equal to b\")\n"
      ],
      "execution_count": 5,
      "outputs": [
        {
          "output_type": "stream",
          "name": "stdout",
          "text": [
            "a is equal to b\n"
          ]
        }
      ]
    },
    {
      "cell_type": "markdown",
      "metadata": {
        "id": "JhpZKN9h09-T"
      },
      "source": [
        "##Short Hand If Statement"
      ]
    },
    {
      "cell_type": "code",
      "metadata": {
        "colab": {
          "base_uri": "https://localhost:8080/"
        },
        "id": "bIiCNk-h1BEK",
        "outputId": "7b642ec2-c19d-4d82-88f5-b693c00243e8"
      },
      "source": [
        "a = 75\n",
        "b = 32\n",
        "\n",
        "if a>b: print(\"a is greater than b\")"
      ],
      "execution_count": 15,
      "outputs": [
        {
          "output_type": "stream",
          "name": "stdout",
          "text": [
            "a is greater than b\n"
          ]
        }
      ]
    },
    {
      "cell_type": "markdown",
      "metadata": {
        "id": "PTf9FZXu1NeZ"
      },
      "source": [
        "##Short Hand If.. Else Statement"
      ]
    },
    {
      "cell_type": "code",
      "metadata": {
        "colab": {
          "base_uri": "https://localhost:8080/"
        },
        "id": "QZ1KM8h51SVI",
        "outputId": "4b8af5d2-c5e2-4121-c4fb-02f59416c0b9"
      },
      "source": [
        "print(\"a is greater than b\") if a>b else print(\"b is greater than a\")"
      ],
      "execution_count": 17,
      "outputs": [
        {
          "output_type": "stream",
          "name": "stdout",
          "text": [
            "a is greater than b\n"
          ]
        }
      ]
    },
    {
      "cell_type": "markdown",
      "metadata": {
        "id": "bf2uK52i2aLS"
      },
      "source": [
        "##And logic Condition"
      ]
    },
    {
      "cell_type": "code",
      "metadata": {
        "colab": {
          "base_uri": "https://localhost:8080/"
        },
        "id": "dyfEvnsH2eVi",
        "outputId": "c03bf3fb-aa4a-4b0a-bb28-901ebf5dae27"
      },
      "source": [
        "a = 200\n",
        "b = 33\n",
        "c = 500\n",
        "if a>b and c>a:\n",
        "  print(\"Both conditions are True\")\n",
        "else:\n",
        "  print(\"Either of the two confitions is True\")"
      ],
      "execution_count": 18,
      "outputs": [
        {
          "output_type": "stream",
          "name": "stdout",
          "text": [
            "Both conditions are True\n"
          ]
        }
      ]
    },
    {
      "cell_type": "markdown",
      "metadata": {
        "id": "2Gir_sw-3ELW"
      },
      "source": [
        "##Or logic condition"
      ]
    },
    {
      "cell_type": "code",
      "metadata": {
        "colab": {
          "base_uri": "https://localhost:8080/"
        },
        "id": "1wo5WBJg3HD2",
        "outputId": "1f789978-5ac6-46be-a06b-c165cad5aa46"
      },
      "source": [
        "if a<b or c>a:\n",
        "  print(\"True\")\n",
        "else:\n",
        "  print(\"False\")"
      ],
      "execution_count": 19,
      "outputs": [
        {
          "output_type": "stream",
          "name": "stdout",
          "text": [
            "True\n"
          ]
        }
      ]
    },
    {
      "cell_type": "markdown",
      "metadata": {
        "id": "aphQo4PA3qSQ"
      },
      "source": [
        "##Nested If"
      ]
    },
    {
      "cell_type": "code",
      "metadata": {
        "colab": {
          "base_uri": "https://localhost:8080/"
        },
        "id": "urgLgHps3vLq",
        "outputId": "0924ba71-9522-44b7-de61-a79a7d2c981e"
      },
      "source": [
        "x=41\n",
        "if x>10:\n",
        "  print(\"Above ten!\")\n",
        "  if x>20:\n",
        "    print(\"and above 20!\")\n",
        "    if x>30:\n",
        "       print(\"and above 30\")\n",
        "    else:\n",
        "      print(\"not above 30\")\n",
        "  else:\n",
        "      print(\"not above 20\")\n",
        "else: \n",
        "      print(\"below 10\")"
      ],
      "execution_count": 38,
      "outputs": [
        {
          "output_type": "stream",
          "name": "stdout",
          "text": [
            "Above ten!\n",
            "and above 20!\n",
            "and above 30\n"
          ]
        }
      ]
    },
    {
      "cell_type": "markdown",
      "metadata": {
        "id": "6s7ZFWkn5u5N"
      },
      "source": [
        "#Example"
      ]
    },
    {
      "cell_type": "code",
      "metadata": {
        "colab": {
          "base_uri": "https://localhost:8080/"
        },
        "id": "yvfh2p_a5w0E",
        "outputId": "a2548db0-38d9-4b75-d1a7-8f6d3df3520d"
      },
      "source": [
        "age = int(input(\"Enter your age:\"))\n",
        "if age>=18:\n",
        "  print(\"You are qualified to vote\")\n",
        "else:\n",
        "  print(\"You are not qualified to vote\")"
      ],
      "execution_count": 63,
      "outputs": [
        {
          "output_type": "stream",
          "name": "stdout",
          "text": [
            "Enter your age:22\n",
            "You are qualified to vote\n"
          ]
        }
      ]
    },
    {
      "cell_type": "code",
      "metadata": {
        "colab": {
          "base_uri": "https://localhost:8080/"
        },
        "id": "996f2CnSC6Rg",
        "outputId": "203085f0-0ce5-46a3-f509-772f1d72d2e7"
      },
      "source": [
        "age = int(input(\"Enter your age:\"))\n",
        "if age>=18:\n",
        "  print(\"You are qualified to vote\")\n",
        "else:\n",
        "  print(\"You are not qualified to vote\")"
      ],
      "execution_count": 62,
      "outputs": [
        {
          "output_type": "stream",
          "name": "stdout",
          "text": [
            "Enter your age:16\n",
            "You are not qualified to vote\n"
          ]
        }
      ]
    },
    {
      "cell_type": "markdown",
      "metadata": {
        "id": "_e_Kp-ZS8S4m"
      },
      "source": [
        "##Example 2"
      ]
    },
    {
      "cell_type": "code",
      "metadata": {
        "colab": {
          "base_uri": "https://localhost:8080/"
        },
        "id": "-_Z__5aA8UVd",
        "outputId": "262ea215-1d31-4a60-e628-5f146efd6166"
      },
      "source": [
        "#Write a program that determines if the input number is Positive, Negative or Zero\n",
        "num = float(input(\"Enter a number: \"))\n",
        "if num > 0:\n",
        "  print(\"Positive number\")\n",
        "elif num == 0:\n",
        "  print(\"Zero\")\n",
        "else:\n",
        "  print(\"Negative number\")\n"
      ],
      "execution_count": 64,
      "outputs": [
        {
          "output_type": "stream",
          "name": "stdout",
          "text": [
            "Enter a number: -24\n",
            "Negative number\n"
          ]
        }
      ]
    },
    {
      "cell_type": "markdown",
      "metadata": {
        "id": "qTGLvV8C8ZJV"
      },
      "source": [
        "##Example 3"
      ]
    },
    {
      "cell_type": "code",
      "metadata": {
        "colab": {
          "base_uri": "https://localhost:8080/"
        },
        "id": "bo_C-P728kMm",
        "outputId": "e7418776-6287-4d11-b34a-13c885bb76b6"
      },
      "source": [
        "#Write a python program that determines if the grade are:\n",
        "#grade>= \"75Passed\"\n",
        "#grade== \"Remedial\"\n",
        "#grade<74 \"Failed\"\n",
        "grade = float(input(\"Enter your grade:\"))\n",
        "if grade>=75:\n",
        "  print(\"You Passed\")\n",
        "elif grade>74 and grade<75:\n",
        "  print(\"Remedial\")\n",
        "else:\n",
        "  print(\"You Failed\")"
      ],
      "execution_count": 59,
      "outputs": [
        {
          "output_type": "stream",
          "name": "stdout",
          "text": [
            "Enter your grade:74.9\n",
            "Remedial\n"
          ]
        }
      ]
    },
    {
      "cell_type": "code",
      "metadata": {
        "colab": {
          "base_uri": "https://localhost:8080/"
        },
        "id": "bje0OZiXCZEt",
        "outputId": "849bcd7c-0168-413f-9a81-8509c424b835"
      },
      "source": [
        "grade = float(input(\"Enter your grade:\"))\n",
        "if grade>=75:\n",
        "  print(\"You Passed\")\n",
        "elif grade>74 and grade<75:\n",
        "  print(\"Remedial\")\n",
        "else:\n",
        "  print(\"You Failed\")"
      ],
      "execution_count": 60,
      "outputs": [
        {
          "output_type": "stream",
          "name": "stdout",
          "text": [
            "Enter your grade:74.00001\n",
            "Remedial\n"
          ]
        }
      ]
    }
  ]
}
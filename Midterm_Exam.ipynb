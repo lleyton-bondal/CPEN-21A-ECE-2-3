{
  "nbformat": 4,
  "nbformat_minor": 0,
  "metadata": {
    "colab": {
      "name": "Midterm Exam.ipynb",
      "provenance": [],
      "authorship_tag": "ABX9TyPIwQZNyNANfZ7zl+3P28xx",
      "include_colab_link": true
    },
    "kernelspec": {
      "name": "python3",
      "display_name": "Python 3"
    },
    "language_info": {
      "name": "python"
    }
  },
  "cells": [
    {
      "cell_type": "markdown",
      "metadata": {
        "id": "view-in-github",
        "colab_type": "text"
      },
      "source": [
        "<a href=\"https://colab.research.google.com/github/lleyton-bondal/CPEN-21A-ECE-2-3/blob/main/Midterm_Exam.ipynb\" target=\"_parent\"><img src=\"https://colab.research.google.com/assets/colab-badge.svg\" alt=\"Open In Colab\"/></a>"
      ]
    },
    {
      "cell_type": "markdown",
      "metadata": {
        "id": "ACOi5-ZGsjcI"
      },
      "source": [
        "#Midterm Exam"
      ]
    },
    {
      "cell_type": "markdown",
      "metadata": {
        "id": "6jmtbeArsw1A"
      },
      "source": [
        "##Problem Statement 1"
      ]
    },
    {
      "cell_type": "code",
      "metadata": {
        "colab": {
          "base_uri": "https://localhost:8080/"
        },
        "id": "TfoP5ywEstCK",
        "outputId": "3d576ffa-e882-4b44-de77-214350b1f584"
      },
      "source": [
        "a = \"Lleyton Earl Emmauel C. Bondal\"\n",
        "b = \"202013509\"\n",
        "c = \"21 years old\"\n",
        "d = \"October 24, 2000\"\n",
        "e = \"Block 7, Lot 13, Kinarri Village, Phase 3, Lantic, Carmona Cavite\"\n",
        "f = \"Bachelor of Science in Electronics and Communications Engineering\"\n",
        "g = \"1.49 GWA\"\n",
        "print(a)\n",
        "print(b)\n",
        "print(c)\n",
        "print(d)\n",
        "print(e)\n",
        "print(f)\n",
        "print(g)"
      ],
      "execution_count": 122,
      "outputs": [
        {
          "output_type": "stream",
          "name": "stdout",
          "text": [
            "Lleyton Earl Emmauel C. Bondal\n",
            "202013509\n",
            "21 years old\n",
            "October 24, 2000\n",
            "Block 7, Lot 13, Kinarri Village, Phase 3, Lantic, Carmona Cavite\n",
            "Bachelor of Science in Electronics and Communications Engineering\n",
            "1.49 GWA\n"
          ]
        }
      ]
    },
    {
      "cell_type": "markdown",
      "metadata": {
        "id": "nSke1LcBuj_F"
      },
      "source": [
        "##Problem Statement 2"
      ]
    },
    {
      "cell_type": "code",
      "metadata": {
        "colab": {
          "base_uri": "https://localhost:8080/"
        },
        "id": "DYc2LhnYuocU",
        "outputId": "1475859b-d7b4-4862-82af-ec5a5f77539d"
      },
      "source": [
        "n = 4 \n",
        "answ = \"Y\" \n",
        "print((2<n)and(n<6))\n",
        "print((2<n)or(n==6))\n",
        "print(not(2<n)or(n==6))\n",
        "print(not(n<6))\n",
        "print((answ==\"Y\")or(answ==\"Y\"))\n",
        "print((answ==\"Y\")and(answ==\"y\"))\n",
        "print(not(answ==\"y\"))\n",
        "print([(2<n)and(n==5+1)]or[(answ==\"No\")])\n",
        "print([(n==2)and(n==7)]or[(answ==\"Y\")])\n",
        "print([(n==2)and(n==7)]or[(answ==\"Y\")])\n",
        "\n"
      ],
      "execution_count": 123,
      "outputs": [
        {
          "output_type": "stream",
          "name": "stdout",
          "text": [
            "True\n",
            "True\n",
            "False\n",
            "False\n",
            "True\n",
            "False\n",
            "True\n",
            "[False]\n",
            "[False]\n",
            "[False]\n"
          ]
        }
      ]
    },
    {
      "cell_type": "markdown",
      "metadata": {
        "id": "utK2thfMyXmo"
      },
      "source": [
        "##Problem Statement 3"
      ]
    },
    {
      "cell_type": "code",
      "metadata": {
        "colab": {
          "base_uri": "https://localhost:8080/"
        },
        "id": "30y4gBUtybvF",
        "outputId": "fce1f0c2-6fe3-4013-bfda-6721f73c1c5d"
      },
      "source": [
        "x=2\n",
        "y=-3\n",
        "w=7\n",
        "z=-10\n",
        "print(x/y)\n",
        "print(w/y/x)\n",
        "print(z/y%x)\n",
        "print(x%-y*w)\n",
        "print(x%y)\n",
        "print(z%w-y/x*5+5)\n",
        "print(9-x%(2+y))\n",
        "print(z//w)\n",
        "print((2+y)**2)\n",
        "print(w/x*2)\n"
      ],
      "execution_count": 120,
      "outputs": [
        {
          "output_type": "stream",
          "name": "stdout",
          "text": [
            "-0.6666666666666666\n",
            "-1.1666666666666667\n",
            "1.3333333333333335\n",
            "14\n",
            "-1\n",
            "16.5\n",
            "9\n",
            "-2\n",
            "1\n",
            "7.0\n"
          ]
        }
      ]
    }
  ]
}
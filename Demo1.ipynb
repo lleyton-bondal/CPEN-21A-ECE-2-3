{
  "nbformat": 4,
  "nbformat_minor": 0,
  "metadata": {
    "colab": {
      "name": "Demo1.ipynb",
      "provenance": [],
      "authorship_tag": "ABX9TyOdbbGHNK6V1C1jL13jQEua",
      "include_colab_link": true
    },
    "kernelspec": {
      "name": "python3",
      "display_name": "Python 3"
    },
    "language_info": {
      "name": "python"
    }
  },
  "cells": [
    {
      "cell_type": "markdown",
      "metadata": {
        "id": "view-in-github",
        "colab_type": "text"
      },
      "source": [
        "<a href=\"https://colab.research.google.com/github/lleyton-bondal/CPEN-21A-ECE-2-3/blob/main/Demo1.ipynb\" target=\"_parent\"><img src=\"https://colab.research.google.com/assets/colab-badge.svg\" alt=\"Open In Colab\"/></a>"
      ]
    },
    {
      "cell_type": "markdown",
      "metadata": {
        "id": "CAzChmpS5aPn"
      },
      "source": [
        "#Introduction"
      ]
    },
    {
      "cell_type": "code",
      "metadata": {
        "colab": {
          "base_uri": "https://localhost:8080/"
        },
        "id": "Y4Lky8vv5dbZ",
        "outputId": "3fada3e2-e418-40dc-c140-4aead4330551"
      },
      "source": [
        "s = \"Hi there! How do you do? My name is Lleyton Earl Emmanuel Bondal from ECE2-3\"\n",
        "a = \"I am neophyte in encoding.\"\n",
        "y = \"This is part of our subject course.\"\n",
        "o = \"I hope we get along. Have a great life and hello world!\"\n",
        "print(s)\n",
        "print(a)\n",
        "print(y)\n",
        "print(o)"
      ],
      "execution_count": 31,
      "outputs": [
        {
          "output_type": "stream",
          "name": "stdout",
          "text": [
            "Hi there! How do you do? My name is Lleyton Earl Emmanuel Bondal from ECE2-3\n",
            "I am neophyte in encoding.\n",
            "This is part of our subject course.\n",
            "I hope we get along. Have a great life and hello world!\n"
          ]
        }
      ]
    },
    {
      "cell_type": "markdown",
      "metadata": {
        "id": "2enYjm0P04nN"
      },
      "source": [
        "##Python Indentation"
      ]
    },
    {
      "cell_type": "code",
      "metadata": {
        "colab": {
          "base_uri": "https://localhost:8080/"
        },
        "id": "S5_U_FJO09pt",
        "outputId": "a3a1e9d0-c6eb-4eb8-be0a-3fdc3757996d"
      },
      "source": [
        "if 5>2:\n",
        "  print(\"Five is greater than two!\")  #This code shows a string of words"
      ],
      "execution_count": 1,
      "outputs": [
        {
          "output_type": "stream",
          "name": "stdout",
          "text": [
            "Five is greater than two!\n"
          ]
        }
      ]
    },
    {
      "cell_type": "markdown",
      "metadata": {
        "id": "7cC1j2Zx2EG8"
      },
      "source": [
        "##Python Variable"
      ]
    },
    {
      "cell_type": "code",
      "metadata": {
        "colab": {
          "base_uri": "https://localhost:8080/"
        },
        "id": "EgEocpZv2Hcq",
        "outputId": "b8266fb0-2ab1-485b-9a55-eb25132f26b9"
      },
      "source": [
        "a, b, c=0,1,2\n",
        "d = \"Sally\" #This is a type of string\n",
        "s = \"Mark\"  #This is a type of string\n",
        "A = \"Raymond\" \n",
        "print(a)\n",
        "print(b)\n",
        "print(c)\n",
        "print(d)\n",
        "print(s)\n",
        "print(A)\n"
      ],
      "execution_count": 2,
      "outputs": [
        {
          "output_type": "stream",
          "name": "stdout",
          "text": [
            "0\n",
            "1\n",
            "2\n",
            "Sally\n",
            "Mark\n",
            "Raymond\n"
          ]
        }
      ]
    },
    {
      "cell_type": "markdown",
      "metadata": {
        "id": "i6pTOB_V271n"
      },
      "source": [
        "##Casting"
      ]
    },
    {
      "cell_type": "code",
      "metadata": {
        "colab": {
          "base_uri": "https://localhost:8080/"
        },
        "id": "81cAOePb3AgY",
        "outputId": "39b222c6-e3c2-4eab-e655-bae5f98d7249"
      },
      "source": [
        "print(int(4))"
      ],
      "execution_count": 4,
      "outputs": [
        {
          "output_type": "stream",
          "name": "stdout",
          "text": [
            "4\n"
          ]
        }
      ]
    },
    {
      "cell_type": "code",
      "metadata": {
        "colab": {
          "base_uri": "https://localhost:8080/"
        },
        "id": "vujgMpe03QlJ",
        "outputId": "11292c4e-5367-4d0c-ad0f-d64eb4ad7fda"
      },
      "source": [
        "f = 56.789\n",
        "print(type(f))"
      ],
      "execution_count": 5,
      "outputs": [
        {
          "output_type": "stream",
          "name": "stdout",
          "text": [
            "<class 'float'>\n"
          ]
        }
      ]
    },
    {
      "cell_type": "code",
      "metadata": {
        "colab": {
          "base_uri": "https://localhost:8080/"
        },
        "id": "evCa88Jo3jsW",
        "outputId": "e6a05d5e-20dc-496f-80e6-1d4df5409e47"
      },
      "source": [
        "x, y, z = \"one\", \"two\", \"three\"\n",
        "print(x)\n",
        "print(y)\n",
        "print(z)"
      ],
      "execution_count": 6,
      "outputs": [
        {
          "output_type": "stream",
          "name": "stdout",
          "text": [
            "one\n",
            "two\n",
            "three\n"
          ]
        }
      ]
    },
    {
      "cell_type": "code",
      "metadata": {
        "colab": {
          "base_uri": "https://localhost:8080/"
        },
        "id": "Mw-Zzup_33Em",
        "outputId": "45db5284-5804-4bef-b47d-b1363ee5ddd5"
      },
      "source": [
        "x = y = z = \"four\" #Multiple variable with single value\n",
        "print (x)\n",
        "print(y)\n",
        "print(z)"
      ],
      "execution_count": 9,
      "outputs": [
        {
          "output_type": "stream",
          "name": "stdout",
          "text": [
            "four\n",
            "four\n",
            "four\n"
          ]
        }
      ]
    },
    {
      "cell_type": "code",
      "metadata": {
        "colab": {
          "base_uri": "https://localhost:8080/"
        },
        "id": "9xzbNhR_4OiM",
        "outputId": "6ef071bf-a2bc-4c95-9340-5232c52541c3"
      },
      "source": [
        "x = \"enjoying\"\n",
        "print(\"Python programming\"\" \"+ x)"
      ],
      "execution_count": 13,
      "outputs": [
        {
          "output_type": "stream",
          "name": "stdout",
          "text": [
            "Python programming enjoying\n"
          ]
        }
      ]
    },
    {
      "cell_type": "markdown",
      "metadata": {
        "id": "USbjYb-l6f0X"
      },
      "source": [
        "##Operations is Python"
      ]
    },
    {
      "cell_type": "code",
      "metadata": {
        "colab": {
          "base_uri": "https://localhost:8080/"
        },
        "id": "ytb9qWub6j4E",
        "outputId": "d0fe8f64-e2bd-4be8-86ed-18e57507a9a2"
      },
      "source": [
        "k = 10\n",
        "l = 5\n",
        "print(k+l)"
      ],
      "execution_count": 17,
      "outputs": [
        {
          "output_type": "stream",
          "name": "stdout",
          "text": [
            "15\n"
          ]
        }
      ]
    },
    {
      "cell_type": "code",
      "metadata": {
        "colab": {
          "base_uri": "https://localhost:8080/"
        },
        "id": "AWsuq3eS6rwF",
        "outputId": "a7da70ce-e843-4c2b-8422-b2e3a09d481c"
      },
      "source": [
        "k+=l #This is the same as k = k+l\n",
        "print(k)"
      ],
      "execution_count": 18,
      "outputs": [
        {
          "output_type": "stream",
          "name": "stdout",
          "text": [
            "15\n"
          ]
        }
      ]
    },
    {
      "cell_type": "code",
      "metadata": {
        "colab": {
          "base_uri": "https://localhost:8080/"
        },
        "id": "X6Ko-1Pk64Le",
        "outputId": "08ca3e22-50ad-4350-ec98-5d207689401d"
      },
      "source": [
        "k>l and l==l"
      ],
      "execution_count": 19,
      "outputs": [
        {
          "output_type": "execute_result",
          "data": {
            "text/plain": [
              "True"
            ]
          },
          "metadata": {},
          "execution_count": 19
        }
      ]
    },
    {
      "cell_type": "code",
      "metadata": {
        "colab": {
          "base_uri": "https://localhost:8080/"
        },
        "id": "R85MPY9K6-XL",
        "outputId": "afa52b50-3d3d-44e7-8546-2c9ae7543a96"
      },
      "source": [
        "k<l or k==k"
      ],
      "execution_count": 21,
      "outputs": [
        {
          "output_type": "execute_result",
          "data": {
            "text/plain": [
              "True"
            ]
          },
          "metadata": {},
          "execution_count": 21
        }
      ]
    },
    {
      "cell_type": "code",
      "metadata": {
        "colab": {
          "base_uri": "https://localhost:8080/"
        },
        "id": "H0Q3chHJ7MKq",
        "outputId": "f296e1d4-9f36-438e-a2aa-638929a12e4e"
      },
      "source": [
        "not (k<l or k==k)"
      ],
      "execution_count": 22,
      "outputs": [
        {
          "output_type": "execute_result",
          "data": {
            "text/plain": [
              "False"
            ]
          },
          "metadata": {},
          "execution_count": 22
        }
      ]
    },
    {
      "cell_type": "code",
      "metadata": {
        "colab": {
          "base_uri": "https://localhost:8080/"
        },
        "id": "gkukoKMY7XP7",
        "outputId": "0e2846c0-3421-4156-9e09-3ef361012057"
      },
      "source": [
        "k is l "
      ],
      "execution_count": 23,
      "outputs": [
        {
          "output_type": "execute_result",
          "data": {
            "text/plain": [
              "False"
            ]
          },
          "metadata": {},
          "execution_count": 23
        }
      ]
    },
    {
      "cell_type": "code",
      "metadata": {
        "colab": {
          "base_uri": "https://localhost:8080/"
        },
        "id": "HT5c1MZK7aWq",
        "outputId": "0e483d9d-d593-4e34-a8fc-16e18e50f9ef"
      },
      "source": [
        "k%=5\n",
        "k"
      ],
      "execution_count": 26,
      "outputs": [
        {
          "output_type": "execute_result",
          "data": {
            "text/plain": [
              "0"
            ]
          },
          "metadata": {},
          "execution_count": 26
        }
      ]
    },
    {
      "cell_type": "markdown",
      "metadata": {
        "id": "qQVQTq5Z9i4t"
      },
      "source": [
        "##Bonus/Practice"
      ]
    },
    {
      "cell_type": "code",
      "metadata": {
        "colab": {
          "base_uri": "https://localhost:8080/"
        },
        "id": "opCZk1kU9qyW",
        "outputId": "a8c9796d-99ec-4118-d106-209d82b20edf"
      },
      "source": [
        "I = \"I am turning 21 years old this Sunday. At this age, all I care is peace of mind.\"\n",
        "M = \"I already invested in Mutual Fund, Soldivo Fund thru International Marketing Group-IMG for as low as Php1000 which allows me to become a shareholder of top chips company in the Philippines\"\n",
        "G = \"I also purchased a KAISER Long-Term healthcare which offers Investment Life Protection, and Healthcare. One of its benefit is to have a free medical consultation to any Kaiser affiliated Hospitals\"\n",
        "P = \"IMG offers at least 50+ benefits which include death/accidental insurance. The latest benefit added are Legal Consultation and Php20 minimum top up to your mutual fund account.\" \n",
        "O = \"You can also create a sub-account for your child's education or retirement plan, etc.\"\n",
        "Y = \"International Marketing Group is a brokerage company that offers financial education to every Filipino individual all over the world. Becoming an IMG member gives you the opportunity to have access to its\"\n",
        "Z = \"partnered companies in Philippines at the same time offers you a business/career opportunity\"\n",
        "X = \"Ms., practice lang po ng marketing skills, hehe. Salamat po. Take care!.\"\n",
        "print(I)\n",
        "print(M)\n",
        "print(G)\n",
        "print(P)\n",
        "print(O)\n",
        "print(Y)\n",
        "print(Z)\n",
        "print(X)"
      ],
      "execution_count": 56,
      "outputs": [
        {
          "output_type": "stream",
          "name": "stdout",
          "text": [
            "I am turning 21 years old this Sunday. At this age, all I care is peace of mind.\n",
            "I already invested in Mutual Fund, Soldivo Fund thru International Marketing Group-IMG for as low as Php1000 which allows me to become a shareholder of top chips company in the Philippines\n",
            "I also purchased a KAISER Long-Term healthcare which offers Investment Life Protection, and Healthcare. One of its benefit is to have a free medical consultation to any Kaiser affiliated Hospitals\n",
            "IMG offers at least 50+ benefits which include death/accidental insurance. The latest benefit added are Legal Consultation and Php20 minimum top up to your mutual fund account.\n",
            "You can also create a sub-account for your child's education or retirement plan, etc.\n",
            "International Marketing Group is a brokerage company that offers financial education to every Filipino individual all over the world. Becoming an IMG member gives you the opportunity to have access to its\n",
            "partnered companies in Philippines at the same time offers you a business/career opportunity\n",
            "Ms., practice lang po ng marketing skills, hehe. Salamat po. Take care!.\n"
          ]
        }
      ]
    }
  ]
}
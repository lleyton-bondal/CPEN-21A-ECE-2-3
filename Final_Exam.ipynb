{
  "nbformat": 4,
  "nbformat_minor": 0,
  "metadata": {
    "colab": {
      "name": "Final Exam.ipynb",
      "provenance": [],
      "collapsed_sections": [],
      "authorship_tag": "ABX9TyNAxdNaYos9XIkDmNujJfd4",
      "include_colab_link": true
    },
    "kernelspec": {
      "name": "python3",
      "display_name": "Python 3"
    },
    "language_info": {
      "name": "python"
    }
  },
  "cells": [
    {
      "cell_type": "markdown",
      "metadata": {
        "id": "view-in-github",
        "colab_type": "text"
      },
      "source": [
        "<a href=\"https://colab.research.google.com/github/lleyton-bondal/CPEN-21A-ECE-2-3/blob/main/Final_Exam.ipynb\" target=\"_parent\"><img src=\"https://colab.research.google.com/assets/colab-badge.svg\" alt=\"Open In Colab\"/></a>"
      ]
    },
    {
      "cell_type": "markdown",
      "source": [
        "#FINAL EXAM\n",
        "###BONDAL, LLEYTON EARL EMMANUEL C.     \n",
        "###202013509        \n",
        "###ECE2-3"
      ],
      "metadata": {
        "id": "u8hrckK14d2N"
      }
    },
    {
      "cell_type": "markdown",
      "source": [
        "1.Create a Python program that will produce an output of sum of 10 numbers less than 5 using FOR LOOP statement.\t(30 points)"
      ],
      "metadata": {
        "id": "0gsJUdLdOlAK"
      }
    },
    {
      "cell_type": "code",
      "source": [
        "lst=[]\n",
        "i=0 \n",
        "for i in range(1,11):\n",
        "    temp=int(input(\"enter number: \"))\n",
        "    lst.append(temp)\n",
        "    i=i+1\n",
        "\n",
        "i=0\n",
        "total=0\n",
        "print(lst)\n",
        "for i in lst:\n",
        "    if i<5:\n",
        "        total=total+i\n",
        "print(\"sum of numbers less than 5: \",total)  "
      ],
      "metadata": {
        "colab": {
          "base_uri": "https://localhost:8080/"
        },
        "id": "8tywSOnhhC6g",
        "outputId": "67807004-a473-4313-f913-160e008aab51"
      },
      "execution_count": null,
      "outputs": [
        {
          "output_type": "stream",
          "name": "stdout",
          "text": [
            "enter number: 4\n",
            "enter number: 6\n",
            "enter number: 2\n",
            "enter number: 3\n",
            "enter number: 7\n",
            "enter number: 8\n",
            "enter number: 6\n",
            "enter number: 4\n",
            "enter number: 5\n",
            "enter number: 2\n",
            "[4, 6, 2, 3, 7, 8, 6, 4, 5, 2]\n",
            "sum of numbers less than 5:  15\n"
          ]
        }
      ]
    },
    {
      "cell_type": "markdown",
      "source": [
        "2.Create a Python program that will produce accept five numbers and determine the sum of first and last number among the five numbers entered using WHILE LOOP    (35 points)"
      ],
      "metadata": {
        "id": "TzJ_2mTPOaiz"
      }
    },
    {
      "cell_type": "code",
      "source": [
        "cpen = []\n",
        "number = int(input(\"Enter number of elements :\\n\"))\n",
        "i=0;\n",
        "while(i!=number):\n",
        "  temp = int(input())\n",
        "  i=i+1\n",
        "  cpen.append(temp)\n",
        "sum=cpen[0]+cpen[number-1] #adding numbers\n",
        "print(\"The sum of first and last number is\")\n",
        "print(sum)"
      ],
      "metadata": {
        "colab": {
          "base_uri": "https://localhost:8080/"
        },
        "id": "f2owJJdOP4nW",
        "outputId": "794dc610-b2e1-4606-a82e-0385049dfb06"
      },
      "execution_count": null,
      "outputs": [
        {
          "output_type": "stream",
          "name": "stdout",
          "text": [
            "Enter number of elements :\n",
            "5\n",
            "1\n",
            "2\n",
            "3\n",
            "4\n",
            "5\n",
            "The sum of first and last number is\n",
            "6\n"
          ]
        }
      ]
    },
    {
      "cell_type": "markdown",
      "source": [
        "3.Create a Python program to calculate student grades. It accepts a numerical grade as input and it will display the character grade as output based on the given scale: (Use Nested-IF-Else statement)\t(35 points)\n",
        " \n"
      ],
      "metadata": {
        "id": "pz39IgL0Oqd7"
      }
    },
    {
      "cell_type": "markdown",
      "source": [
        "Range\tGrade\n",
        "\n"
      ],
      "metadata": {
        "id": "d5cvNP9VO1Ww"
      }
    },
    {
      "cell_type": "markdown",
      "source": [
        "90 and above\tA"
      ],
      "metadata": {
        "id": "nKqoPORJQ5cL"
      }
    },
    {
      "cell_type": "markdown",
      "source": [
        "90-89\tB\n"
      ],
      "metadata": {
        "id": "el58MLoOO30w"
      }
    },
    {
      "cell_type": "markdown",
      "source": [
        "70-79\tC\n"
      ],
      "metadata": {
        "id": "Rfnm-YGXO5HA"
      }
    },
    {
      "cell_type": "markdown",
      "source": [
        "60-69\tD"
      ],
      "metadata": {
        "id": "iLyiXwemQ2x-"
      }
    },
    {
      "cell_type": "markdown",
      "source": [
        "Below 60\tF"
      ],
      "metadata": {
        "id": "vW4WBgQEQ-3Z"
      }
    },
    {
      "cell_type": "code",
      "source": [
        "a=int(input(\"ENTER YOUR GRADE :\"))\n",
        "if a >= 90:\n",
        "    print(\"GRADE:A\")\n",
        "else:\n",
        "    if a >= 80:\n",
        "        print(\"GRADE:B\")\n",
        "    else:\n",
        "        if a >=70:\n",
        "            print(\"GRADE:C\")\n",
        "        else:\n",
        "            if a >= 60:\n",
        "                print(\"GRADE:D\")\n",
        "            else:\n",
        "                 print(\"GRADE:F\")"
      ],
      "metadata": {
        "colab": {
          "base_uri": "https://localhost:8080/"
        },
        "id": "uh2TZ2DTOtQC",
        "outputId": "bfe0ba45-e25e-4ba5-ff84-b65c7228fc60"
      },
      "execution_count": 3,
      "outputs": [
        {
          "output_type": "stream",
          "name": "stdout",
          "text": [
            "ENTER YOUR GRADE :59\n",
            "GRADE:F\n"
          ]
        }
      ]
    }
  ]
}